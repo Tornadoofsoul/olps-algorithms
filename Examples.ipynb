{
 "cells": [
  {
   "cell_type": "markdown",
   "metadata": {},
   "source": [
    "# Portfolios Example"
   ]
  },
  {
   "cell_type": "code",
   "execution_count": 1,
   "metadata": {},
   "outputs": [],
   "source": [
    "%matplotlib notebook\n",
    "import numpy as np\n",
    "import load_factors as lf\n",
    "import factors\n",
    "import pickle\n",
    "from factor_portfolio import Factor_Portfolio\n",
    "from factor_multi_portfolio import Factor_Multi_Portfolio\n",
    "from multiplicative_weigths import Multiplicative_Weights\n",
    "from pattern_matching import Pattern_Matching\n",
    "from algorithm_result import AlgorithmResultsList\n",
    "from filter import Filter\n",
    "import warnings\n",
    "import time\n",
    "warnings.filterwarnings('ignore')"
   ]
  },
  {
   "cell_type": "markdown",
   "metadata": {},
   "source": [
    "Pre-process (Run only once)"
   ]
  },
  {
   "cell_type": "code",
   "execution_count": null,
   "metadata": {
    "collapsed": true
   },
   "outputs": [],
   "source": [
    "assets_list=lf.load_assets(['price_to_book'], '../data/')\n",
    "prices=lf.create_factor_df(assets_list,'close',isForwardFill=False)\n",
    "returns=factors.prices_to_returns(prices)\n",
    "ibx_filter=Filter('../data/filter/IBX.csv')\n",
    "pickle.dump(ibx_filter, open('../dump/ibx_filter.p', 'wb'))\n",
    "pickle.dump(assets_list, open('../dump/assets_list.p', 'wb'))\n",
    "pickle.dump(prices, open('../dump/prices.p', 'wb'))\n",
    "pickle.dump(returns, open('../dump/returns.p', 'wb'))"
   ]
  },
  {
   "cell_type": "markdown",
   "metadata": {},
   "source": [
    "Load objects (Run otherwise)"
   ]
  },
  {
   "cell_type": "code",
   "execution_count": 2,
   "metadata": {
    "collapsed": true
   },
   "outputs": [],
   "source": [
    "#load objects\n",
    "assets_list=pickle.load(open('../dump/assets_list.p','rb'))\n",
    "prices=pickle.load(open('../dump/prices.p', 'rb'))\n",
    "returns=pickle.load(open('../dump/returns.p', 'rb'))\n",
    "ibx_filter=pickle.load(open('../dump/ibx_filter.p', 'rb'))"
   ]
  },
  {
   "cell_type": "markdown",
   "metadata": {},
   "source": [
    "Filter PN Assets only"
   ]
  },
  {
   "cell_type": "code",
   "execution_count": 3,
   "metadata": {
    "collapsed": true
   },
   "outputs": [],
   "source": [
    "#get only PN assets\n",
    "assets_list=lf.get_only_PN(assets_list)"
   ]
  },
  {
   "cell_type": "markdown",
   "metadata": {},
   "source": [
    "### Momentum algorithm"
   ]
  },
  {
   "cell_type": "markdown",
   "metadata": {},
   "source": [
    "Create and run algorithm"
   ]
  },
  {
   "cell_type": "code",
   "execution_count": 4,
   "metadata": {},
   "outputs": [
    {
     "name": "stdout",
     "output_type": "stream",
     "text": [
      "Factor Portfolio run time:  2.0851588249206543  segundos\n",
      "Summary:\n",
      "        Yrly ROA: 0.08\n",
      "        Yrly Sharpe Ratio: 0.33\n",
      "        Annualized return: 8.51%\n",
      "        Annualized volatility: 24.55%\n",
      "        Longest drawdown: 1653 days\n",
      "        Net Return: 154.42%\n",
      "        Winning days: 53.2%\n",
      "        Start Date: 01/2006\n",
      "        End Date: 08/2017\n",
      "        \n"
     ]
    }
   ],
   "source": [
    "start = time.time()\n",
    "#Create\n",
    "algorithm = Factor_Portfolio([], 'momentum sma', 15)\n",
    "#Set parameters\n",
    "algorithm.factor_df=factors.momentum(prices, 21, 252)\n",
    "algorithm.reverse_order=False\n",
    "algorithm.add_filter(ibx_filter)\n",
    "algorithm.portfolio_size=15\n",
    "algorithm.rebalance_window=1\n",
    "algorithm.rebalance_period='monthly'\n",
    "algorithm.cost=.004\n",
    "#Run\n",
    "result = algorithm.run(returns,start_date='01/01/2006')\n",
    "end = time.time()\n",
    "print('Factor Portfolio run time: ', (end-start), ' segundos')\n",
    "print(result.summary())"
   ]
  },
  {
   "cell_type": "code",
   "execution_count": null,
   "metadata": {
    "scrolled": true
   },
   "outputs": [],
   "source": [
    "result.add_benchmark('../data/benchmark/IBOV.csv')\n",
    "result.add_benchmark('../data/benchmark/DynamoCougar.csv')\n",
    "result.plot()"
   ]
  },
  {
   "cell_type": "code",
   "execution_count": 5,
   "metadata": {},
   "outputs": [],
   "source": [
    "res_list = AlgorithmResultsList()"
   ]
  },
  {
   "cell_type": "code",
   "execution_count": 6,
   "metadata": {
    "collapsed": true
   },
   "outputs": [],
   "source": [
    "res_list.append(result)"
   ]
  },
  {
   "cell_type": "markdown",
   "metadata": {},
   "source": [
    "### MWU algorithm"
   ]
  },
  {
   "cell_type": "code",
   "execution_count": null,
   "metadata": {
    "collapsed": true
   },
   "outputs": [],
   "source": [
    "start = time.time()\n",
    "algorithm = Multiplicative_Weights(eta=0.1)\n",
    "algorithm.rebalance_window=1\n",
    "algorithm.rebalance_period='daily'\n",
    "result = algorithm.run(returns,start_date='01/01/2006')\n",
    "end = time.time()\n",
    "print('MWU Elapsed time: ', (end-start), ' segundos')\n",
    "print(result.summary())"
   ]
  },
  {
   "cell_type": "code",
   "execution_count": null,
   "metadata": {
    "collapsed": true
   },
   "outputs": [],
   "source": [
    "result.add_benchmark('../data/benchmark/IBOV.csv')\n",
    "result.plot()"
   ]
  },
  {
   "cell_type": "markdown",
   "metadata": {},
   "source": [
    "### Pattern Matching algorithm"
   ]
  },
  {
   "cell_type": "code",
   "execution_count": null,
   "metadata": {
    "collapsed": true
   },
   "outputs": [],
   "source": [
    "start = time.time()\n",
    "algorithm = Pattern_Matching(window_size=22,c_threshold=0.2)\n",
    "algorithm.rebalance_window=1\n",
    "algorithm.rebalance_period='monthly'\n",
    "result = algorithm.run(returns,start_date='01/01/2006')\n",
    "end = time.time()\n",
    "print('Pattern Matching Elapsed time: ', (end-start), ' segundos')\n",
    "print(result.summary())"
   ]
  },
  {
   "cell_type": "code",
   "execution_count": null,
   "metadata": {
    "collapsed": true
   },
   "outputs": [],
   "source": [
    "result.add_benchmark('../data/benchmark/IBOV.csv')\n",
    "result.plot()"
   ]
  },
  {
   "cell_type": "code",
   "execution_count": null,
   "metadata": {
    "collapsed": true
   },
   "outputs": [],
   "source": [
    "result.data['result'].to_csv('result.csv')"
   ]
  }
 ],
 "metadata": {
  "kernelspec": {
   "display_name": "Python 3",
   "language": "python",
   "name": "python3"
  },
  "language_info": {
   "codemirror_mode": {
    "name": "ipython",
    "version": 3
   },
   "file_extension": ".py",
   "mimetype": "text/x-python",
   "name": "python",
   "nbconvert_exporter": "python",
   "pygments_lexer": "ipython3",
   "version": "3.6.1"
  }
 },
 "nbformat": 4,
 "nbformat_minor": 2
}
